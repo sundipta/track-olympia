{
 "cells": [
  {
   "cell_type": "code",
   "execution_count": 19,
   "metadata": {},
   "outputs": [],
   "source": [
    "import numpy as np\n",
    "import pandas as pd\n",
    "import sklearn\n",
    "\n",
    "import nltk\n",
    "from nltk.corpus import opinion_lexicon\n",
    "\n",
    "from sklearn.feature_extraction.text import CountVectorizer\n",
    "from sklearn.decomposition import LatentDirichletAllocation"
   ]
  },
  {
   "cell_type": "code",
   "execution_count": 2,
   "metadata": {},
   "outputs": [],
   "source": [
    "bill_info = pd.read_csv(\"/Users/sundipta/Insight_notebooks/bill_descriptions.csv\",index_col=0)"
   ]
  },
  {
   "cell_type": "code",
   "execution_count": 3,
   "metadata": {},
   "outputs": [
    {
     "data": {
      "text/html": [
       "<div>\n",
       "<style scoped>\n",
       "    .dataframe tbody tr th:only-of-type {\n",
       "        vertical-align: middle;\n",
       "    }\n",
       "\n",
       "    .dataframe tbody tr th {\n",
       "        vertical-align: top;\n",
       "    }\n",
       "\n",
       "    .dataframe thead th {\n",
       "        text-align: right;\n",
       "    }\n",
       "</style>\n",
       "<table border=\"1\" class=\"dataframe\">\n",
       "  <thead>\n",
       "    <tr style=\"text-align: right;\">\n",
       "      <th></th>\n",
       "      <th>index</th>\n",
       "      <th>Active</th>\n",
       "      <th>Agency</th>\n",
       "      <th>Bill_ID</th>\n",
       "      <th>LongDescription</th>\n",
       "      <th>ShortDescription</th>\n",
       "      <th>ID</th>\n",
       "    </tr>\n",
       "  </thead>\n",
       "  <tbody>\n",
       "    <tr>\n",
       "      <th>2059</th>\n",
       "      <td>2080</td>\n",
       "      <td>True</td>\n",
       "      <td>Senate</td>\n",
       "      <td>9336</td>\n",
       "      <td>NaN</td>\n",
       "      <td>MONICA A. ALEXANDER</td>\n",
       "      <td>2060</td>\n",
       "    </tr>\n",
       "    <tr>\n",
       "      <th>2060</th>\n",
       "      <td>2081</td>\n",
       "      <td>True</td>\n",
       "      <td>Senate</td>\n",
       "      <td>9338</td>\n",
       "      <td>NaN</td>\n",
       "      <td>GREG SZABO</td>\n",
       "      <td>2061</td>\n",
       "    </tr>\n",
       "    <tr>\n",
       "      <th>2061</th>\n",
       "      <td>2082</td>\n",
       "      <td>True</td>\n",
       "      <td>Senate</td>\n",
       "      <td>9339</td>\n",
       "      <td>NaN</td>\n",
       "      <td>SUSAN BIRCH</td>\n",
       "      <td>2062</td>\n",
       "    </tr>\n",
       "    <tr>\n",
       "      <th>2062</th>\n",
       "      <td>2083</td>\n",
       "      <td>True</td>\n",
       "      <td>Senate</td>\n",
       "      <td>9340</td>\n",
       "      <td>NaN</td>\n",
       "      <td>ROSS HUNTER</td>\n",
       "      <td>2063</td>\n",
       "    </tr>\n",
       "    <tr>\n",
       "      <th>2063</th>\n",
       "      <td>2084</td>\n",
       "      <td>True</td>\n",
       "      <td>Senate</td>\n",
       "      <td>9800</td>\n",
       "      <td>NaN</td>\n",
       "      <td>CHRISTOPHER R. POULOS</td>\n",
       "      <td>2064</td>\n",
       "    </tr>\n",
       "  </tbody>\n",
       "</table>\n",
       "</div>"
      ],
      "text/plain": [
       "      index  Active  Agency  Bill_ID LongDescription       ShortDescription  \\\n",
       "2059   2080    True  Senate     9336             NaN    MONICA A. ALEXANDER   \n",
       "2060   2081    True  Senate     9338             NaN             GREG SZABO   \n",
       "2061   2082    True  Senate     9339             NaN            SUSAN BIRCH   \n",
       "2062   2083    True  Senate     9340             NaN            ROSS HUNTER   \n",
       "2063   2084    True  Senate     9800             NaN  CHRISTOPHER R. POULOS   \n",
       "\n",
       "        ID  \n",
       "2059  2060  \n",
       "2060  2061  \n",
       "2061  2062  \n",
       "2062  2063  \n",
       "2063  2064  "
      ]
     },
     "execution_count": 3,
     "metadata": {},
     "output_type": "execute_result"
    }
   ],
   "source": [
    "bill_info.tail()"
   ]
  },
  {
   "cell_type": "code",
   "execution_count": 4,
   "metadata": {},
   "outputs": [],
   "source": [
    "bill_info_subset = bill_info[~bill_info['LongDescription'].isnull()]"
   ]
  },
  {
   "cell_type": "code",
   "execution_count": 36,
   "metadata": {},
   "outputs": [
    {
     "data": {
      "text/plain": [
       "1946"
      ]
     },
     "execution_count": 36,
     "metadata": {},
     "output_type": "execute_result"
    }
   ],
   "source": [
    "len(bill_info_subset)"
   ]
  },
  {
   "cell_type": "code",
   "execution_count": 5,
   "metadata": {},
   "outputs": [],
   "source": [
    "#Looking at all the words that occur at least once in the short descriptions\n",
    "vect = CountVectorizer()"
   ]
  },
  {
   "cell_type": "code",
   "execution_count": 6,
   "metadata": {},
   "outputs": [
    {
     "data": {
      "text/plain": [
       "CountVectorizer(analyzer='word', binary=False, decode_error='strict',\n",
       "        dtype=<class 'numpy.int64'>, encoding='utf-8', input='content',\n",
       "        lowercase=True, max_df=1.0, max_features=None, min_df=1,\n",
       "        ngram_range=(1, 1), preprocessor=None, stop_words=None,\n",
       "        strip_accents=None, token_pattern='(?u)\\\\b\\\\w\\\\w+\\\\b',\n",
       "        tokenizer=None, vocabulary=None)"
      ]
     },
     "execution_count": 6,
     "metadata": {},
     "output_type": "execute_result"
    }
   ],
   "source": [
    "vect.fit(bill_info_subset['LongDescription'])"
   ]
  },
  {
   "cell_type": "code",
   "execution_count": 60,
   "metadata": {},
   "outputs": [
    {
     "data": {
      "text/plain": [
       "2696"
      ]
     },
     "execution_count": 60,
     "metadata": {},
     "output_type": "execute_result"
    }
   ],
   "source": [
    "len(vect.vocabulary_)\n",
    "#number unique words being used in short bill descriptions"
   ]
  },
  {
   "cell_type": "code",
   "execution_count": 11,
   "metadata": {},
   "outputs": [],
   "source": [
    "vocab_dist = vect.vocabulary_"
   ]
  },
  {
   "cell_type": "code",
   "execution_count": 21,
   "metadata": {},
   "outputs": [
    {
     "data": {
      "text/plain": [
       "dict"
      ]
     },
     "execution_count": 21,
     "metadata": {},
     "output_type": "execute_result"
    }
   ],
   "source": [
    "type(vocab_dist)"
   ]
  },
  {
   "cell_type": "code",
   "execution_count": 25,
   "metadata": {},
   "outputs": [],
   "source": [
    "vocab_dist_df = pd.DataFrame(list(vocab_dist.items()),columns = ['Word','Count'])"
   ]
  },
  {
   "cell_type": "code",
   "execution_count": 32,
   "metadata": {},
   "outputs": [],
   "source": [
    "vocab_dist_df_sorted = vocab_dist_df.sort_values('Count',ascending = False)"
   ]
  },
  {
   "cell_type": "code",
   "execution_count": 61,
   "metadata": {},
   "outputs": [],
   "source": [
    "#this constructs and inverted index from the columns (each word) of X back to the vocabulary\n",
    "ivoc = {j:i for i,j in vect.vocabulary_.items()}"
   ]
  },
  {
   "cell_type": "code",
   "execution_count": 63,
   "metadata": {},
   "outputs": [
    {
     "data": {
      "text/plain": [
       "<1209x2696 sparse matrix of type '<class 'numpy.int64'>'\n",
       "\twith 13074 stored elements in Compressed Sparse Row format>"
      ]
     },
     "execution_count": 63,
     "metadata": {},
     "output_type": "execute_result"
    }
   ],
   "source": [
    "#now that we've fit the vectorizer, let's transform the data to look at the features\n",
    "X = vect.transform(bill_info_subset['LongDescription'])\n",
    "X"
   ]
  },
  {
   "cell_type": "code",
   "execution_count": 71,
   "metadata": {},
   "outputs": [],
   "source": [
    "lda = LatentDirichletAllocation(n_topics=20)"
   ]
  },
  {
   "cell_type": "code",
   "execution_count": 72,
   "metadata": {},
   "outputs": [
    {
     "name": "stderr",
     "output_type": "stream",
     "text": [
      "/Users/sundipta/venv_insight/lib/python3.6/site-packages/sklearn/decomposition/online_lda.py:294: DeprecationWarning: n_topics has been renamed to n_components in version 0.19 and will be removed in 0.21\n",
      "  DeprecationWarning)\n",
      "/Users/sundipta/venv_insight/lib/python3.6/site-packages/sklearn/decomposition/online_lda.py:536: DeprecationWarning: The default value for 'learning_method' will be changed from 'online' to 'batch' in the release 0.20. This warning was introduced in 0.18.\n",
      "  DeprecationWarning)\n"
     ]
    }
   ],
   "source": [
    "theta = lda.fit_transform(X)"
   ]
  },
  {
   "cell_type": "code",
   "execution_count": 73,
   "metadata": {},
   "outputs": [],
   "source": [
    "def show_topics(lda,ivoc):\n",
    "    for k,topic in enumerate(lda.components_):\n",
    "        print(k,[ivoc[i] for i in topic.argsort()[::-1][:7]])"
   ]
  },
  {
   "cell_type": "code",
   "execution_count": 74,
   "metadata": {},
   "outputs": [
    {
     "name": "stdout",
     "output_type": "stream",
     "text": [
      "0 ['the', 'of', 'and', 'to', 'for', 'concerning', 'in']\n",
      "1 ['assisted', 'population', 'living', 'park', 'with', 'thousand', 'located']\n",
      "2 ['program', 'the', 'concerning', 'in', 'creating', 'health', 'for']\n",
      "3 ['the', 'act', 'of', 'concerning', 'sexual', 'washington', 'addressing']\n",
      "4 ['license', 'concerning', 'family', 'allowing', 'property', 'to', 'driver']\n",
      "5 ['the', 'and', 'system', 'of', 'to', 'concerning', 'requirements']\n",
      "6 ['property', 'tax', 'from', 'that', 'concerning', 'land', 'offenses']\n",
      "7 ['concerning', 'fire', 'protection', 'district', 'institutions', 'on', 'and']\n",
      "8 ['updating', 'youth', 'and', 'between', 'fairs', 'concerning', 'laws']\n",
      "9 ['for', 'concerning', 'the', 'and', 'of', 'to', 'law']\n",
      "10 ['products', 'voting', 'definition', 'day', 'religious', 'contractors', 'purposes']\n",
      "11 ['housing', 'income', 'low', 'revolving', 'loan', 'finance', 'creating']\n",
      "12 ['high', 'graduation', 'success', 'supporting', 'karen', 'honoring', 'fraser']\n",
      "13 ['concerning', 'of', 'the', 'or', 'to', 'recreational', 'juvenile']\n",
      "14 ['of', 'concerning', 'the', 'agreements', 'or', 'bargaining', 'and']\n",
      "15 ['concerning', 'regarding', 'for', 'and', 'registration', 'based', 'policy']\n",
      "16 ['resulting', 'harriet', 'bushing', 'estimated', 'harassment', 'trust', 'revised']\n",
      "17 ['about', 'electric', 'women', 'an', 'energy', 'or', 'applicant']\n",
      "18 ['agencies', 'concerning', 'by', 'jurisdiction', 'courts', 'limited', 'commissioners']\n",
      "19 ['using', 'opioid', 'wireless', 'functionality', 'telephone', 'device', 'call']\n"
     ]
    }
   ],
   "source": [
    "show_topics(lda,ivoc)"
   ]
  },
  {
   "cell_type": "code",
   "execution_count": null,
   "metadata": {},
   "outputs": [],
   "source": []
  }
 ],
 "metadata": {
  "kernelspec": {
   "display_name": "Python 3",
   "language": "python",
   "name": "python3"
  },
  "language_info": {
   "codemirror_mode": {
    "name": "ipython",
    "version": 3
   },
   "file_extension": ".py",
   "mimetype": "text/x-python",
   "name": "python",
   "nbconvert_exporter": "python",
   "pygments_lexer": "ipython3",
   "version": "3.6.5"
  }
 },
 "nbformat": 4,
 "nbformat_minor": 2
}
